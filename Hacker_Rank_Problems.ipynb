{
  "nbformat": 4,
  "nbformat_minor": 0,
  "metadata": {
    "colab": {
      "provenance": [],
      "authorship_tag": "ABX9TyN/NPIpVLq8EPcp706VwFC5",
      "include_colab_link": true
    },
    "kernelspec": {
      "name": "python3",
      "display_name": "Python 3"
    },
    "language_info": {
      "name": "python"
    }
  },
  "cells": [
    {
      "cell_type": "markdown",
      "metadata": {
        "id": "view-in-github",
        "colab_type": "text"
      },
      "source": [
        "<a href=\"https://colab.research.google.com/github/Soumyajit74/Assignment-2-ML-INeuron/blob/main/Hacker_Rank_Problems.ipynb\" target=\"_parent\"><img src=\"https://colab.research.google.com/assets/colab-badge.svg\" alt=\"Open In Colab\"/></a>"
      ]
    },
    {
      "cell_type": "markdown",
      "source": [
        "Python Strings, Design a Mat"
      ],
      "metadata": {
        "id": "31AYxtEvXBqp"
      }
    },
    {
      "cell_type": "code",
      "source": [
        "n, m=map(int, input().split())\n",
        "\n",
        "s=''\n",
        "\n",
        "for i in range(1, n, 2):\n",
        "\n",
        "  s= s+(i* '.|.').center(m,\"-\") + \"\\n\"\n",
        "s= s+ 'WELCOME'.center(m, \"-\") + \"\\n\"\n",
        "\n",
        "for i in range(n-2, 0, -2):\n",
        "  s= s +(i* '.|.').center(m,\"-\") + \"\\n\"\n",
        "  \n",
        "\n",
        "print(s)"
      ],
      "metadata": {
        "colab": {
          "base_uri": "https://localhost:8080/"
        },
        "id": "bxbKflksXVpm",
        "outputId": "86c2538a-5e76-4014-8256-bf7c27022bc6"
      },
      "execution_count": null,
      "outputs": [
        {
          "output_type": "stream",
          "name": "stdout",
          "text": [
            "7 21\n",
            "---------.|.---------\n",
            "------.|..|..|.------\n",
            "---.|..|..|..|..|.---\n",
            "-------WELCOME-------\n",
            "---.|..|..|..|..|.---\n",
            "------.|..|..|.------\n",
            "---------.|.---------\n",
            "\n"
          ]
        }
      ]
    },
    {
      "cell_type": "code",
      "source": [
        "def minion_game(string):\n",
        "    # your code goes here\n",
        "\n",
        "    vowels= \"AEIOU\"\n",
        "    kevin_score=0\n",
        "    stuart_score=0\n",
        "    \n",
        "    for i in range(len(string)):\n",
        "        if string[i] in vowels:\n",
        "            kevin_score += len(string)-i\n",
        "        else:\n",
        "            stuart_score += len(string)-i\n",
        "    if kevin_score>stuart_score:\n",
        "        print(\"Kevin\", kevin_score)\n",
        "    elif stuart_score>kevin_score:\n",
        "        print(\"Stuart\", stuart_score)\n",
        "    else:\n",
        "        print(\"Draw\")\n",
        "if __name__ == '__main__':\n",
        "    s = input()\n",
        "    minion_game(s)"
      ],
      "metadata": {
        "id": "f6CnazTVbHZz",
        "colab": {
          "base_uri": "https://localhost:8080/"
        },
        "outputId": "a6f90934-05f6-4006-e510-55f9adae71eb"
      },
      "execution_count": null,
      "outputs": [
        {
          "output_type": "stream",
          "name": "stdout",
          "text": [
            "BANANA\n",
            "Stuart 12\n"
          ]
        }
      ]
    },
    {
      "cell_type": "code",
      "source": [
        "from itertools import groupby\n",
        "\n",
        "data = list(input().strip())\n",
        "it=groupby(data)\n",
        "\n",
        "for key, group in it:\n",
        "    print(tuple([len(list(group)), int(key)]), end=' ')"
      ],
      "metadata": {
        "id": "dxa0GCqwjRjz",
        "colab": {
          "base_uri": "https://localhost:8080/"
        },
        "outputId": "eb3d1148-c7ce-4f89-8594-1b39dfa1d59f"
      },
      "execution_count": null,
      "outputs": [
        {
          "output_type": "stream",
          "name": "stdout",
          "text": [
            "4\n",
            "(1, 4) "
          ]
        }
      ]
    },
    {
      "cell_type": "code",
      "source": [
        "from itertools import combinations\n",
        "count=0\n",
        "leng,letters,indices= int(input()),input().split(), int(input())\n",
        "com = list(combinations(letters,int(indices)))\n",
        "for i in com:\n",
        "    if 'a' in i:\n",
        "        count+=1\n",
        "print(count/len(com))"
      ],
      "metadata": {
        "id": "Fgb0lUC2u6eV",
        "colab": {
          "base_uri": "https://localhost:8080/"
        },
        "outputId": "cb1e8f84-cf9b-454f-9c46-3329894c8d9f"
      },
      "execution_count": null,
      "outputs": [
        {
          "output_type": "stream",
          "name": "stdout",
          "text": [
            "6\n",
            "a a m r a m\n",
            "4\n",
            "1.0\n"
          ]
        }
      ]
    },
    {
      "cell_type": "code",
      "source": [
        "from itertools import product\n",
        "k, m= input().split()\n",
        "lst= [list(map(lambda x: int(x)**2, input()[1:].split())) for _ in range(int(k))]\n",
        "print(max([sum(i)%int(m) for i in list(product(*lst))]))"
      ],
      "metadata": {
        "id": "_GLdeY0E6s4X",
        "colab": {
          "base_uri": "https://localhost:8080/"
        },
        "outputId": "f4a8ae4a-ed8c-4cba-8d02-866592bb7b09"
      },
      "execution_count": null,
      "outputs": [
        {
          "output_type": "stream",
          "name": "stdout",
          "text": [
            "3 1000\n",
            "2 5 4\n",
            "3 7 8 9\n",
            "5 5 7 8 9 10\n",
            "206\n"
          ]
        }
      ]
    },
    {
      "cell_type": "code",
      "source": [
        "\n",
        "    def lengthOfLongestSubstring(s: str) -> int:\n",
        "\n",
        "        l=[]\n",
        "        tmp_s=[]\n",
        "        counter=0\n",
        "        j=0\n",
        "        i=0\n",
        "\n",
        "        while(j<len(s)and j!=len(s)):\n",
        "            char=s[j]\n",
        "            if char not in tmp_s:\n",
        "                tmp_s.append(char)\n",
        "                counter=max(counter,len(tmp_s))\n",
        "            else:\n",
        "                print(tmp_s)\n",
        "                while(char in tmp_s and i<len(s)):\n",
        "                    tmp_s.pop(0)\n",
        "                tmp_s.append(char)\n",
        "            j+=1\n",
        "\n",
        "        return counter\n",
        "       \n",
        "\n",
        "    st=input()\n",
        "    print(lengthOfLongestSubstring(st))"
      ],
      "metadata": {
        "id": "BwfX-jsjVUJX",
        "colab": {
          "base_uri": "https://localhost:8080/"
        },
        "outputId": "c0262bfa-95f5-4ee1-870c-0c5754a7ba8f"
      },
      "execution_count": null,
      "outputs": [
        {
          "output_type": "stream",
          "name": "stdout",
          "text": [
            "fekmfweroew\n",
            "['f', 'e', 'k', 'm']\n",
            "['e', 'k', 'm', 'f', 'w']\n",
            "['k', 'm', 'f', 'w', 'e', 'r', 'o']\n",
            "7\n"
          ]
        }
      ]
    },
    {
      "cell_type": "code",
      "source": [
        "def lengthOfLongestSubstring(s: str) -> int:\n",
        "        j=0\n",
        "        v=[]\n",
        "        maxi=0\n",
        "        i=0\n",
        "        while(j<len(s)):\n",
        "            char=s[j]\n",
        "            if char not in v:\n",
        "                #update the length of the array\n",
        "                v.append(char)\n",
        "                maxi=max(maxi,len(v))\n",
        "            else:\n",
        "                print(v)\n",
        "                while(char in v and i<len(s)):\n",
        "                    v.pop(0)\n",
        "                    #pop the character from the top till the character cannot be present in the array...\n",
        "                v.append(char)\n",
        "            j+=1\n",
        "        return maxi\n",
        "str=input()\n",
        "print(lengthOfLongestSubstring(str))"
      ],
      "metadata": {
        "id": "4b2KTT3-fIjh",
        "colab": {
          "base_uri": "https://localhost:8080/"
        },
        "outputId": "a2bfdb55-337f-4803-da44-f0341324e86d"
      },
      "execution_count": null,
      "outputs": [
        {
          "output_type": "stream",
          "name": "stdout",
          "text": [
            "hgcycyv\n",
            "['h', 'g', 'c', 'y']\n",
            "['y', 'c']\n",
            "4\n"
          ]
        }
      ]
    },
    {
      "cell_type": "code",
      "source": [
        "def lengthOfLongestSubstring(s: str) -> int:\n",
        "        def check(start, end):\n",
        "            chars = set()\n",
        "            for i in range(start, end + 1):\n",
        "                c = s[i]\n",
        "                if c in chars:\n",
        "                    return False\n",
        "                chars.add(c)\n",
        "            return True\n",
        "\n",
        "        n = len(s)\n",
        "\n",
        "        res = 0\n",
        "        for i in range(n):\n",
        "            for j in range(i, n):\n",
        "                if check(i, j):\n",
        "                    print (res)\n",
        "                    res = max(res, j - i + 1)\n",
        "                    \n",
        "        return res\n",
        "str=input()\n",
        "print(lengthOfLongestSubstring(str))"
      ],
      "metadata": {
        "id": "kYOfc8C-3Hpd",
        "colab": {
          "base_uri": "https://localhost:8080/"
        },
        "outputId": "7b276a78-294e-48d9-b4f5-3c3088c56bd5"
      },
      "execution_count": null,
      "outputs": [
        {
          "output_type": "stream",
          "name": "stdout",
          "text": [
            "abcabcbb\n",
            "0\n",
            "1\n",
            "2\n",
            "3\n",
            "3\n",
            "3\n",
            "3\n",
            "3\n",
            "3\n",
            "3\n",
            "3\n",
            "3\n",
            "3\n",
            "3\n",
            "3\n",
            "3\n",
            "3\n",
            "3\n",
            "3\n"
          ]
        }
      ]
    },
    {
      "cell_type": "markdown",
      "source": [
        "Notice this code is different. It doesn't let repeat any letter the code above does and is accepted by Leetcode as solution."
      ],
      "metadata": {
        "id": "x3jfV1xJzQM-"
      }
    },
    {
      "cell_type": "code",
      "source": [
        "#\n",
        "def lengthOfLongestSubstring(s: str) -> int:\n",
        "\n",
        "        list=[]\n",
        "        tmp_s=[]\n",
        "        counter=0\n",
        "        j=0\n",
        "        i=0\n",
        "\n",
        "        while(j<len(s)and j!=len(s)):\n",
        "            char=s[j]\n",
        "            if char not in tmp_s:\n",
        "                tmp_s.append(char)\n",
        "                counter+=1\n",
        "                l.append(counter)                \n",
        "            else:\n",
        "                \n",
        "                tmp_s.append(char)\n",
        "                #l.append(counter)\n",
        "                counter=1\n",
        "            j+=1\n",
        "        max_val=max(list)     \n",
        "        return max_val\n",
        "       \n",
        "\n",
        "st=input()\n",
        "print(lengthOfLongestSubstring(st))"
      ],
      "metadata": {
        "id": "hDUjcJigQerU",
        "colab": {
          "base_uri": "https://localhost:8080/"
        },
        "outputId": "937ca7c7-e653-4a5a-97a7-fbff2f956cef"
      },
      "execution_count": null,
      "outputs": [
        {
          "output_type": "stream",
          "name": "stdout",
          "text": [
            "assassination\n",
            "5\n"
          ]
        }
      ]
    },
    {
      "cell_type": "markdown",
      "source": [],
      "metadata": {
        "id": "09a9T6-W2Llo"
      }
    },
    {
      "cell_type": "code",
      "source": [
        "def lengthOfLongestSubstring(s: str) -> int:\n",
        "\n",
        "        l=[0]\n",
        "        tmp_s=[]\n",
        "        counter=0\n",
        "        j=0\n",
        "       \n",
        "\n",
        "        while(j<len(s)and s!=0):\n",
        "            char=s[j]\n",
        "            if char not in tmp_s:\n",
        "                tmp_s.append(char)\n",
        "                print(len(tmp_s))\n",
        "                counter=(len(tmp_s))\n",
        "                l.append(counter)\n",
        "                \n",
        "                                \n",
        "            else:\n",
        "                \n",
        "                \n",
        "                counter=(len(tmp_s))\n",
        "                l.append(counter)\n",
        "                del tmp_s[0]\n",
        "                tmp_s.append(char)\n",
        "                #print(counter)\n",
        "                \n",
        "            \n",
        "            j+=1\n",
        "        print(l)\n",
        "        max_val=max(l)     \n",
        "        return max_val\n",
        "       \n",
        "\n",
        "st=input()\n",
        "print(lengthOfLongestSubstring(st))\n"
      ],
      "metadata": {
        "colab": {
          "base_uri": "https://localhost:8080/"
        },
        "id": "JbRhYbVLyPZe",
        "outputId": "fb308cc4-1f59-49c5-b4f9-61e709adb5b4"
      },
      "execution_count": null,
      "outputs": [
        {
          "output_type": "stream",
          "name": "stdout",
          "text": [
            "abcabcbb\n",
            "1\n",
            "2\n",
            "3\n",
            "[0, 1, 2, 3, 3, 3, 3, 3, 3]\n",
            "3\n"
          ]
        }
      ]
    },
    {
      "cell_type": "code",
      "source": [
        "def lengthOfLongestSubstring(s: str) -> int:\n",
        "\n",
        "        l=[0]\n",
        "        tmp_s=[]\n",
        "        counter=0\n",
        "        j=0\n",
        "       \n",
        "\n",
        "        for i in range(len(s)):\n",
        "          \n",
        "                \n",
        "            \n",
        "            j+=1\n",
        "        print(l)\n",
        "        max_val=max(l)     \n",
        "        return max_val\n",
        "       \n",
        "\n",
        "st=input()\n",
        "print(lengthOfLongestSubstring(st))\n"
      ],
      "metadata": {
        "id": "5qJpOTTP29Ry"
      },
      "execution_count": null,
      "outputs": []
    },
    {
      "cell_type": "markdown",
      "source": [
        "Median of Two Sorted Arrays"
      ],
      "metadata": {
        "id": "-CMDbpa2-SR3"
      }
    },
    {
      "cell_type": "code",
      "source": [],
      "metadata": {
        "id": "iThjLa4j-OhI"
      },
      "execution_count": null,
      "outputs": []
    },
    {
      "cell_type": "markdown",
      "source": [
        "Binary Search"
      ],
      "metadata": {
        "id": "hOOLMiWuanV7"
      }
    },
    {
      "cell_type": "code",
      "source": [
        "def bin_search(arr, val, start, end):\n",
        "\n",
        "  # we need to distinguish whether we should insert\n",
        "  # before or after the left boundary.\n",
        "  # imagine [0] is the last step of the binary search\n",
        "  # and we need to decide where to insert -1\n",
        "  if start==end:\n",
        "    if arr[start]>val:\n",
        "      return start\n",
        "    else:\n",
        "      return start+1\n",
        "    # this occurs if we are moving beyond left\\'s boundary\n",
        "    # meaning the left boundary is the least position to\n",
        "    # find a number greater than val\n",
        "  if start>end:\n",
        "    return start\n",
        "\n",
        "  mid=(start+end)/2\n",
        "  if arr[mid]<val:\n",
        "    return bin_search(arr, val, mid+1, end)\n",
        "  elif arr[mid]>val:\n",
        "    return bin_search(arr, val, mid-1 )\n",
        "  else:\n",
        "\n",
        "    return mid\n",
        "\n",
        "def ins_sort(arr):\n",
        "  for i in range(1,len(arr)):\n",
        "\n",
        "    val=arr[i]\n",
        "    j=bin_search(arr,val,0,i-1)\n",
        "    arr=arr[:j]+[val]+arr[j:1]+arr[i+1:]\n",
        "    return arr\n",
        "    \n",
        "print(\"Sorted array:\")\n",
        "print(ins_sort([37, 23, 0, 17, 12, 72, 31,\n",
        "                        46, 100, 88, 54]))\n"
      ],
      "metadata": {
        "colab": {
          "base_uri": "https://localhost:8080/"
        },
        "id": "iv11a-Xuajww",
        "outputId": "57e8738f-a9be-4074-dff4-2c78c4d0f9f9"
      },
      "execution_count": null,
      "outputs": [
        {
          "output_type": "stream",
          "name": "stdout",
          "text": [
            "Sorted array:\n",
            "[23, 37, 0, 17, 12, 72, 31, 46, 100, 88, 54]\n"
          ]
        }
      ]
    },
    {
      "cell_type": "code",
      "source": [
        "def binary_search(arr, t):\n",
        "  start=0\n",
        "  end=len(arr)\n",
        "  mid=0\n",
        "  while(start<=end):\n",
        "    mid=(start+end)//2\n",
        "    if (arr[mid]>t):\n",
        "      end=mid-1\n",
        "    elif (arr[mid]<t):\n",
        "      start=mid+1\n",
        "    else:\n",
        "      return mid\n",
        "  return-1\n",
        "\n",
        "n = int(input(\"Enter number of elements : \"))\n",
        "  \n",
        "# Below line read inputs from user using map() function\n",
        "arr = list(map(int, input(\"\\nEnter the numbers : \").strip().split()))[:n]\n",
        "\n",
        "if len(arr)==n:\n",
        "  t=int(input(\"Input the target search value\"))\n",
        "else:\n",
        "  print(\"List not in range\")\n",
        "  \n",
        "\n",
        "result=binary_search(arr,t)\n",
        "if result!=-1:\n",
        "  print(\"Element is present at index\", result)\n",
        "else:\n",
        "  print(\"The element doesn't exist in the array\")\n",
        "\n"
      ],
      "metadata": {
        "id": "AgDh1-67vkUM",
        "colab": {
          "base_uri": "https://localhost:8080/"
        },
        "outputId": "a54b4bb7-abf5-4c6c-f12a-be97c8247696"
      },
      "execution_count": 39,
      "outputs": [
        {
          "output_type": "stream",
          "name": "stdout",
          "text": [
            "Enter number of elements : 2\n",
            "\n",
            "Enter the numbers : 3 7\n",
            "Input the target search value3\n",
            "Element is present at index 0\n"
          ]
        }
      ]
    },
    {
      "cell_type": "code",
      "source": [],
      "metadata": {
        "colab": {
          "base_uri": "https://localhost:8080/"
        },
        "id": "xoob9DtxBiga",
        "outputId": "552b5553-3440-4b8d-fd90-f99a10571d2b"
      },
      "execution_count": 38,
      "outputs": [
        {
          "output_type": "execute_result",
          "data": {
            "text/plain": [
              "3"
            ]
          },
          "metadata": {},
          "execution_count": 38
        }
      ]
    },
    {
      "cell_type": "code",
      "source": [],
      "metadata": {
        "id": "O2nOOSAya0BX"
      },
      "execution_count": null,
      "outputs": []
    }
  ]
}