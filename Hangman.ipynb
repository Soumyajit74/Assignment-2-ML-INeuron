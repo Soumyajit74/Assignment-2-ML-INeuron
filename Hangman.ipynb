{
  "nbformat": 4,
  "nbformat_minor": 0,
  "metadata": {
    "colab": {
      "provenance": [],
      "authorship_tag": "ABX9TyOBnFQqYbkDPOoDM1wCjAeI",
      "include_colab_link": true
    },
    "kernelspec": {
      "name": "python3",
      "display_name": "Python 3"
    },
    "language_info": {
      "name": "python"
    }
  },
  "cells": [
    {
      "cell_type": "markdown",
      "metadata": {
        "id": "view-in-github",
        "colab_type": "text"
      },
      "source": [
        "<a href=\"https://colab.research.google.com/github/Soumyajit74/Assignment-2-ML-INeuron/blob/main/Hangman.ipynb\" target=\"_parent\"><img src=\"https://colab.research.google.com/assets/colab-badge.svg\" alt=\"Open In Colab\"/></a>"
      ]
    },
    {
      "cell_type": "code",
      "source": [
        "import random\n",
        "word_list = [\"aardvark\", \"baboon\", \"camel\"]\n",
        "chosen_word = random.choice(word_list)\n",
        "word_length = len(chosen_word)\n",
        "#Step 3\n",
        "\n",
        "import random\n",
        "stages = ['''\n",
        "  +---+\n",
        "  |   |\n",
        "  O   |\n",
        " /|\\  |\n",
        " / \\  |\n",
        "      |\n",
        "=========\n",
        "''', '''\n",
        "  +---+\n",
        "  |   |\n",
        "  O   |\n",
        " /|\\  |\n",
        " /    |\n",
        "      |\n",
        "=========\n",
        "''', '''\n",
        "  +---+\n",
        "  |   |\n",
        "  O   |\n",
        " /|\\  |\n",
        "      |\n",
        "      |\n",
        "=========\n",
        "''', '''\n",
        "  +---+\n",
        "  |   |\n",
        "  O   |\n",
        " /|   |\n",
        "      |\n",
        "      |\n",
        "=========''', '''\n",
        "  +---+\n",
        "  |   |\n",
        "  O   |\n",
        "  |   |\n",
        "      |\n",
        "      |\n",
        "=========\n",
        "''', '''\n",
        "  +---+\n",
        "  |   |\n",
        "  O   |\n",
        "      |\n",
        "      |\n",
        "      |\n",
        "=========\n",
        "''', '''\n",
        "  +---+\n",
        "  |   |\n",
        "      |\n",
        "      |\n",
        "      |\n",
        "      |\n",
        "=========\n",
        "''']\n",
        "word_list = [\"aardvark\", \"baboon\", \"camel\"]\n",
        "chosen_word = random.choice(word_list)\n",
        "word_length = len(chosen_word)\n",
        "\n",
        "#Testing code\n",
        "#print(f'Pssst, the solution is {chosen_word}.')\n",
        "\n",
        "#Create blanks\n",
        "display = []\n",
        "for _ in range(word_length):\n",
        "    display += \"_\"\n",
        "lives=6\n",
        "#TODO-1: - Use a while loop to let the user guess again. The loop should only stop once the user has guessed all the letters in the chosen_word and 'display' has no more blanks (\"_\"). Then you can tell the user they've won.\n",
        "end_of_game = False\n",
        "\n",
        "while not end_of_game:\n",
        "\n",
        "  guess = input(\"Guess a letter: \").lower()\n",
        "\n",
        "  #Check guessed letter\n",
        "  for position in range(word_length):\n",
        "    letter = chosen_word[position]\n",
        "    #print(f\"Current position: {position}\\n Current letter: {letter}\\n Guessed letter: {guess}\")\n",
        "    if letter == guess:\n",
        "      display[position] = letter\n",
        "   # else:\n",
        "   #   print(\"No Match\")\n",
        "\n",
        "  print(display)\n",
        "\n",
        "  if guess not in chosen_word:\n",
        "    lives-=1\n",
        "    print(stages[lives])\n",
        "    if lives==0:\n",
        "      print(\"You lose.\")\n",
        "      end_of_game= True\n",
        "\n",
        "\n",
        "#Check if there are no more \"_\" left in 'display'. Then all letters have been guessed.\n",
        "if \"_\" not in display:\n",
        "  end_of_game = True\n",
        "  print(\"You win.\")\n"
      ],
      "metadata": {
        "id": "0uKX3l3FC_JN",
        "colab": {
          "base_uri": "https://localhost:8080/"
        },
        "outputId": "45806622-462b-48a8-bd0a-7bd7fd5de4ff"
      },
      "execution_count": null,
      "outputs": [
        {
          "output_type": "stream",
          "name": "stdout",
          "text": [
            "Guess a letter: h\n",
            "['_', '_', '_', '_', '_', '_']\n",
            "\n",
            "  +---+\n",
            "  |   |\n",
            "  O   |\n",
            "      |\n",
            "      |\n",
            "      |\n",
            "=========\n",
            "\n"
          ]
        }
      ]
    },
    {
      "cell_type": "code",
      "source": [],
      "metadata": {
        "id": "gaD3lnbhB8jR"
      },
      "execution_count": null,
      "outputs": []
    }
  ]
}